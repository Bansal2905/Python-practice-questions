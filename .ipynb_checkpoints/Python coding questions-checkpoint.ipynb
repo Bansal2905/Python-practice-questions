{
 "cells": [
  {
   "cell_type": "markdown",
   "id": "fbdeb8de",
   "metadata": {},
   "source": [
    "# Python Program for Sum of squares of first n natural numbers "
   ]
  },
  {
   "cell_type": "code",
   "execution_count": 1,
   "id": "22fb0676",
   "metadata": {},
   "outputs": [],
   "source": [
    "def sum(n):\n",
    "    s = 0\n",
    "    for i in range(n+1):\n",
    "        s = s + i**2\n",
    "    return s"
   ]
  },
  {
   "cell_type": "code",
   "execution_count": 2,
   "id": "596d1799",
   "metadata": {},
   "outputs": [
    {
     "data": {
      "text/plain": [
       "55"
      ]
     },
     "execution_count": 2,
     "metadata": {},
     "output_type": "execute_result"
    }
   ],
   "source": [
    "sum(5)"
   ]
  },
  {
   "cell_type": "markdown",
   "id": "417240d9",
   "metadata": {},
   "source": [
    "# Python program to check whether the string is Symmetrical or Palindrome"
   ]
  },
  {
   "cell_type": "code",
   "execution_count": 5,
   "id": "0d0a6494",
   "metadata": {},
   "outputs": [],
   "source": [
    "def ispalindrome(string):\n",
    "    string = string.lower()\n",
    "    reverse = string[::-1]\n",
    "    if string == reverse:\n",
    "        return \"The string is palindrome\"\n",
    "    else:\n",
    "        return \"The string is not palindrome\""
   ]
  },
  {
   "cell_type": "code",
   "execution_count": 8,
   "id": "666baab7",
   "metadata": {},
   "outputs": [
    {
     "data": {
      "text/plain": [
       "'The string is palindrome'"
      ]
     },
     "execution_count": 8,
     "metadata": {},
     "output_type": "execute_result"
    }
   ],
   "source": [
    "ispalindrome(\"amama\")"
   ]
  },
  {
   "cell_type": "code",
   "execution_count": 9,
   "id": "4d9197aa",
   "metadata": {},
   "outputs": [
    {
     "data": {
      "text/plain": [
       "'The string is palindrome'"
      ]
     },
     "execution_count": 9,
     "metadata": {},
     "output_type": "execute_result"
    }
   ],
   "source": [
    "ispalindrome('malayalam')"
   ]
  },
  {
   "cell_type": "markdown",
   "id": "6dc34d59",
   "metadata": {},
   "source": [
    "# Python program to sort a list of tuples by second Item "
   ]
  },
  {
   "cell_type": "code",
   "execution_count": 15,
   "id": "ce9aec47",
   "metadata": {},
   "outputs": [],
   "source": [
    "def sort(array):\n",
    "    return sorted(array,key = lambda x:x[1])"
   ]
  },
  {
   "cell_type": "code",
   "execution_count": 16,
   "id": "d53b1440",
   "metadata": {},
   "outputs": [
    {
     "data": {
      "text/plain": [
       "[('Bob', 25, 60000),\n",
       " ('David', 28, 55000),\n",
       " ('Alice', 30, 50000),\n",
       " ('Charlie', 35, 45000)]"
      ]
     },
     "execution_count": 16,
     "metadata": {},
     "output_type": "execute_result"
    }
   ],
   "source": [
    "people = [(\"Alice\", 30, 50000), (\"Bob\", 25, 60000), (\"Charlie\", 35, 45000), (\"David\", 28, 55000)]\n",
    "sort(people)"
   ]
  },
  {
   "cell_type": "markdown",
   "id": "f2530b99",
   "metadata": {},
   "source": [
    "# Convert a list of Tuples into Dictionary "
   ]
  },
  {
   "cell_type": "code",
   "execution_count": 17,
   "id": "fdbbf7dc",
   "metadata": {},
   "outputs": [],
   "source": [
    "def convert(array):\n",
    "    ref_dic = {}\n",
    "    for i in array:\n",
    "        ref_dic[i[0]] = i[1]\n",
    "    return ref_dic"
   ]
  },
  {
   "cell_type": "code",
   "execution_count": 18,
   "id": "e010477c",
   "metadata": {},
   "outputs": [],
   "source": [
    "list_of_tuples = [(\"a\", 1), (\"b\", 2), (\"c\", 3)]"
   ]
  },
  {
   "cell_type": "code",
   "execution_count": 19,
   "id": "6b0df7da",
   "metadata": {},
   "outputs": [
    {
     "data": {
      "text/plain": [
       "{'a': 1, 'b': 2, 'c': 3}"
      ]
     },
     "execution_count": 19,
     "metadata": {},
     "output_type": "execute_result"
    }
   ],
   "source": [
    "convert(list_of_tuples)"
   ]
  },
  {
   "cell_type": "code",
   "execution_count": 20,
   "id": "8c072404",
   "metadata": {},
   "outputs": [
    {
     "data": {
      "text/plain": [
       "{'a': 1, 'b': 2, 'c': 3}"
      ]
     },
     "execution_count": 20,
     "metadata": {},
     "output_type": "execute_result"
    }
   ],
   "source": [
    "dict(list_of_tuples)"
   ]
  },
  {
   "cell_type": "code",
   "execution_count": 21,
   "id": "3238fdeb",
   "metadata": {},
   "outputs": [
    {
     "data": {
      "text/plain": [
       "{'g', 'h', 'j', 'q', 'u', 'x'}"
      ]
     },
     "execution_count": 21,
     "metadata": {},
     "output_type": "execute_result"
    }
   ],
   "source": [
    "set(\"jhxgqjuxxx\")"
   ]
  },
  {
   "cell_type": "markdown",
   "id": "1cfd7332",
   "metadata": {},
   "source": [
    "# Program to accept the strings which contains all vowels"
   ]
  },
  {
   "cell_type": "code",
   "execution_count": 42,
   "id": "12bb1190",
   "metadata": {},
   "outputs": [],
   "source": [
    "def check(string):\n",
    "    string = string.lower()\n",
    "    vowels = \"aeiou\"\n",
    "    unique = set(string)\n",
    "    test = set()\n",
    "    for i in vowels:\n",
    "        if i in unique:\n",
    "            test.add(i)\n",
    "    if len(test) == len(vowels):\n",
    "        return \"Accepted\"\n",
    "    else:\n",
    "        return \"Not Accepted\""
   ]
  },
  {
   "cell_type": "code",
   "execution_count": 51,
   "id": "40401301",
   "metadata": {},
   "outputs": [],
   "source": [
    "test = \"ths aeios pythn crs\""
   ]
  },
  {
   "cell_type": "code",
   "execution_count": 52,
   "id": "9400f668",
   "metadata": {},
   "outputs": [
    {
     "data": {
      "text/plain": [
       "'Not Accepted'"
      ]
     },
     "execution_count": 52,
     "metadata": {},
     "output_type": "execute_result"
    }
   ],
   "source": [
    "check(test)"
   ]
  },
  {
   "cell_type": "code",
   "execution_count": 53,
   "id": "c90ca038",
   "metadata": {},
   "outputs": [
    {
     "data": {
      "text/plain": [
       "'Accepted'"
      ]
     },
     "execution_count": 53,
     "metadata": {},
     "output_type": "execute_result"
    }
   ],
   "source": [
    "check(\"these are vowels aeiou\")"
   ]
  },
  {
   "cell_type": "markdown",
   "id": "40d14b2c",
   "metadata": {},
   "source": [
    "#  Python program to interchange first and last elements in a list"
   ]
  },
  {
   "cell_type": "code",
   "execution_count": 54,
   "id": "44487fe6",
   "metadata": {},
   "outputs": [],
   "source": [
    "def interchange(array):\n",
    "    array[0],array[-1] = array[-1],array[0]\n",
    "    return array"
   ]
  },
  {
   "cell_type": "code",
   "execution_count": 56,
   "id": "58aea0e8",
   "metadata": {},
   "outputs": [
    {
     "data": {
      "text/plain": [
       "[6, 2, 3, 4, 5, 1]"
      ]
     },
     "execution_count": 56,
     "metadata": {},
     "output_type": "execute_result"
    }
   ],
   "source": [
    "interchange([1,2,3,4,5,6])"
   ]
  },
  {
   "cell_type": "markdown",
   "id": "6a030aa5",
   "metadata": {},
   "source": [
    "# Write a function that can take a string and return a list of bigrams."
   ]
  },
  {
   "cell_type": "code",
   "execution_count": 77,
   "id": "5e718b8f",
   "metadata": {},
   "outputs": [],
   "source": [
    "def bigrams(string):\n",
    "    str_list = string.split()\n",
    "    l = len(str_list)\n",
    "    bigrams_list = []\n",
    "    i = 0\n",
    "    while i <= l-2:\n",
    "        tup = []\n",
    "        tup.append(str_list[i])\n",
    "        tup.append(str_list[i+1])\n",
    "        tup = tuple(tup)\n",
    "        bigrams_list.append(tup)\n",
    "        i+=1\n",
    "    return bigrams_list"
   ]
  },
  {
   "cell_type": "code",
   "execution_count": 76,
   "id": "bb8604b2",
   "metadata": {},
   "outputs": [
    {
     "data": {
      "text/plain": [
       "[('this', 'is'), ('is', 'python'), ('python', 'course')]"
      ]
     },
     "execution_count": 76,
     "metadata": {},
     "output_type": "execute_result"
    }
   ],
   "source": [
    "bigrams(\"this is python course\")"
   ]
  },
  {
   "cell_type": "code",
   "execution_count": 79,
   "id": "9c1831b8",
   "metadata": {},
   "outputs": [
    {
     "data": {
      "text/plain": [
       "[('Have', 'free'),\n",
       " ('free', 'hours'),\n",
       " ('hours', 'and'),\n",
       " ('and', 'love'),\n",
       " ('love', 'children?')]"
      ]
     },
     "execution_count": 79,
     "metadata": {},
     "output_type": "execute_result"
    }
   ],
   "source": [
    "bigrams(\"Have free hours and love children?\")"
   ]
  },
  {
   "cell_type": "markdown",
   "id": "a6cfebb2",
   "metadata": {},
   "source": [
    "# Given a string, return the first recurring character in it, or “None” if there is no recurring character.\n",
    "* input = \"interviewquery\"\n",
    "* output = \"i\"\n",
    "* input = \"interv\"\n",
    "* output = None"
   ]
  },
  {
   "cell_type": "code",
   "execution_count": 8,
   "id": "8e02bcf1",
   "metadata": {},
   "outputs": [],
   "source": [
    "def recurring_chaacter(string):\n",
    "    for i in string:\n",
    "        if string.count(i) > 1:\n",
    "            return i\n",
    "            break\n",
    "        else:\n",
    "            return \"None\""
   ]
  },
  {
   "cell_type": "code",
   "execution_count": null,
   "id": "668591e1",
   "metadata": {},
   "outputs": [],
   "source": []
  },
  {
   "cell_type": "code",
   "execution_count": 9,
   "id": "5196791a",
   "metadata": {},
   "outputs": [
    {
     "data": {
      "text/plain": [
       "'None'"
      ]
     },
     "execution_count": 9,
     "metadata": {},
     "output_type": "execute_result"
    }
   ],
   "source": [
    "recurring_chaacter(\"interv\")"
   ]
  },
  {
   "cell_type": "code",
   "execution_count": 14,
   "id": "b17f4e34",
   "metadata": {},
   "outputs": [
    {
     "data": {
      "text/plain": [
       "'i'"
      ]
     },
     "execution_count": 14,
     "metadata": {},
     "output_type": "execute_result"
    }
   ],
   "source": [
    "recurring_chaacter(\"interviewquery\")"
   ]
  },
  {
   "cell_type": "markdown",
   "id": "d1c35d0a",
   "metadata": {},
   "source": [
    "# Given a list of stock prices in ascending order by datetime, write a function that outputs the max profit by buying and selling at a specific interval."
   ]
  },
  {
   "cell_type": "code",
   "execution_count": 147,
   "id": "15abc5ce",
   "metadata": {},
   "outputs": [],
   "source": [
    "stock_prices = [10,5,20,32,25,12]\n",
    "dts = [\n",
    "    '2019-01-01', \n",
    "    '2019-01-02',\n",
    "    '2019-01-03',\n",
    "    '2019-01-04',\n",
    "    '2019-01-05',\n",
    "    '2019-01-06',\n",
    "]"
   ]
  },
  {
   "cell_type": "code",
   "execution_count": 164,
   "id": "f4839189",
   "metadata": {},
   "outputs": [],
   "source": [
    "import numpy as np\n",
    "def dates(stock_prices,dts):\n",
    "    profit = np.zeros([6,6])\n",
    "    loop = 0\n",
    "    for i in stock_prices:\n",
    "        profit[loop] = np.array(stock_prices) - np.array([i]*len(stock_prices))\n",
    "        loop+=1\n",
    "    purchase_date = np.where(profit == profit.max())[0].item()\n",
    "    sell_date = np.where(profit == profit.max())[1].item()\n",
    "    max_profit = profit.max()\n",
    "    return f\"purchase_date: {dts[purchase_date]} /n kjl\"\n",
    "#     return \"sell_date:\" dts[sell_date]\n",
    "#     return "
   ]
  },
  {
   "cell_type": "code",
   "execution_count": 165,
   "id": "35d9fe77",
   "metadata": {},
   "outputs": [
    {
     "data": {
      "text/plain": [
       "'purchase_date: 2019-01-02 /n kjl'"
      ]
     },
     "execution_count": 165,
     "metadata": {},
     "output_type": "execute_result"
    }
   ],
   "source": [
    "dates(stock_prices,dts)"
   ]
  },
  {
   "cell_type": "code",
   "execution_count": null,
   "id": "cc6bf5c8",
   "metadata": {},
   "outputs": [],
   "source": []
  }
 ],
 "metadata": {
  "kernelspec": {
   "display_name": "Python 3 (ipykernel)",
   "language": "python",
   "name": "python3"
  },
  "language_info": {
   "codemirror_mode": {
    "name": "ipython",
    "version": 3
   },
   "file_extension": ".py",
   "mimetype": "text/x-python",
   "name": "python",
   "nbconvert_exporter": "python",
   "pygments_lexer": "ipython3",
   "version": "3.11.5"
  }
 },
 "nbformat": 4,
 "nbformat_minor": 5
}
