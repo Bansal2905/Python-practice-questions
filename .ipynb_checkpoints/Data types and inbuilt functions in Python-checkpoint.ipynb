{
 "cells": [
  {
   "cell_type": "markdown",
   "id": "0f1572c3",
   "metadata": {},
   "source": [
    "# Data types"
   ]
  },
  {
   "cell_type": "markdown",
   "id": "4318b06d",
   "metadata": {},
   "source": [
    "### Integer data types"
   ]
  },
  {
   "cell_type": "code",
   "execution_count": 6,
   "id": "89e97294",
   "metadata": {},
   "outputs": [],
   "source": [
    "x = 9"
   ]
  },
  {
   "cell_type": "code",
   "execution_count": 7,
   "id": "e4652c48",
   "metadata": {},
   "outputs": [
    {
     "data": {
      "text/plain": [
       "int"
      ]
     },
     "execution_count": 7,
     "metadata": {},
     "output_type": "execute_result"
    }
   ],
   "source": [
    "type(x)"
   ]
  },
  {
   "cell_type": "markdown",
   "id": "987fb6bc",
   "metadata": {},
   "source": [
    "# Float data types"
   ]
  },
  {
   "cell_type": "code",
   "execution_count": 8,
   "id": "0876aaa0",
   "metadata": {},
   "outputs": [],
   "source": [
    "y = 8.9"
   ]
  },
  {
   "cell_type": "code",
   "execution_count": 9,
   "id": "92504718",
   "metadata": {},
   "outputs": [
    {
     "data": {
      "text/plain": [
       "float"
      ]
     },
     "execution_count": 9,
     "metadata": {},
     "output_type": "execute_result"
    }
   ],
   "source": [
    "type(y)"
   ]
  },
  {
   "cell_type": "code",
   "execution_count": 10,
   "id": "46b0ca7c",
   "metadata": {},
   "outputs": [],
   "source": [
    "h = 9.0"
   ]
  },
  {
   "cell_type": "code",
   "execution_count": 11,
   "id": "c97bad5e",
   "metadata": {},
   "outputs": [
    {
     "data": {
      "text/plain": [
       "float"
      ]
     },
     "execution_count": 11,
     "metadata": {},
     "output_type": "execute_result"
    }
   ],
   "source": [
    "type(h)"
   ]
  },
  {
   "cell_type": "markdown",
   "id": "c779311e",
   "metadata": {},
   "source": [
    "# Strings"
   ]
  },
  {
   "cell_type": "code",
   "execution_count": 12,
   "id": "c2d70c9b",
   "metadata": {},
   "outputs": [],
   "source": [
    "text = \"This is second python lectutre\""
   ]
  },
  {
   "cell_type": "code",
   "execution_count": 13,
   "id": "e31d99d5",
   "metadata": {},
   "outputs": [
    {
     "data": {
      "text/plain": [
       "'This is second python lectutre'"
      ]
     },
     "execution_count": 13,
     "metadata": {},
     "output_type": "execute_result"
    }
   ],
   "source": [
    "text"
   ]
  },
  {
   "cell_type": "code",
   "execution_count": 14,
   "id": "24305e1b",
   "metadata": {},
   "outputs": [
    {
     "data": {
      "text/plain": [
       "str"
      ]
     },
     "execution_count": 14,
     "metadata": {},
     "output_type": "execute_result"
    }
   ],
   "source": [
    "type(text)"
   ]
  },
  {
   "cell_type": "code",
   "execution_count": 15,
   "id": "0970cd09",
   "metadata": {},
   "outputs": [],
   "source": [
    "text1 = \"123456\""
   ]
  },
  {
   "cell_type": "code",
   "execution_count": 16,
   "id": "1261d890",
   "metadata": {},
   "outputs": [
    {
     "data": {
      "text/plain": [
       "str"
      ]
     },
     "execution_count": 16,
     "metadata": {},
     "output_type": "execute_result"
    }
   ],
   "source": [
    "type(text1)"
   ]
  },
  {
   "cell_type": "markdown",
   "id": "8bdaa237",
   "metadata": {},
   "source": [
    "# Boolean data type(check the condition)"
   ]
  },
  {
   "cell_type": "code",
   "execution_count": 36,
   "id": "7a81d22a",
   "metadata": {},
   "outputs": [],
   "source": [
    "h = True"
   ]
  },
  {
   "cell_type": "code",
   "execution_count": 37,
   "id": "ffb0a5fc",
   "metadata": {},
   "outputs": [
    {
     "data": {
      "text/plain": [
       "bool"
      ]
     },
     "execution_count": 37,
     "metadata": {},
     "output_type": "execute_result"
    }
   ],
   "source": [
    "type(h)"
   ]
  },
  {
   "cell_type": "code",
   "execution_count": 38,
   "id": "9117ca3f",
   "metadata": {},
   "outputs": [],
   "source": [
    "j = False"
   ]
  },
  {
   "cell_type": "code",
   "execution_count": 39,
   "id": "e28c595b",
   "metadata": {},
   "outputs": [
    {
     "data": {
      "text/plain": [
       "bool"
      ]
     },
     "execution_count": 39,
     "metadata": {},
     "output_type": "execute_result"
    }
   ],
   "source": [
    "type(j)"
   ]
  },
  {
   "cell_type": "code",
   "execution_count": 40,
   "id": "0e1a484d",
   "metadata": {},
   "outputs": [
    {
     "data": {
      "text/plain": [
       "False"
      ]
     },
     "execution_count": 40,
     "metadata": {},
     "output_type": "execute_result"
    }
   ],
   "source": [
    "3>5"
   ]
  },
  {
   "cell_type": "markdown",
   "id": "8e4d1cf2",
   "metadata": {},
   "source": [
    "# Input function"
   ]
  },
  {
   "cell_type": "code",
   "execution_count": 23,
   "id": "61bd99f0",
   "metadata": {},
   "outputs": [
    {
     "name": "stdout",
     "output_type": "stream",
     "text": [
      "67\n"
     ]
    }
   ],
   "source": [
    "age = input()"
   ]
  },
  {
   "cell_type": "code",
   "execution_count": 25,
   "id": "868fe248",
   "metadata": {},
   "outputs": [
    {
     "ename": "TypeError",
     "evalue": "can only concatenate str (not \"int\") to str",
     "output_type": "error",
     "traceback": [
      "\u001b[1;31m---------------------------------------------------------------------------\u001b[0m",
      "\u001b[1;31mTypeError\u001b[0m                                 Traceback (most recent call last)",
      "Cell \u001b[1;32mIn[25], line 1\u001b[0m\n\u001b[1;32m----> 1\u001b[0m age\u001b[38;5;241m+\u001b[39m\u001b[38;5;241m56\u001b[39m\n",
      "\u001b[1;31mTypeError\u001b[0m: can only concatenate str (not \"int\") to str"
     ]
    }
   ],
   "source": [
    "age+56"
   ]
  },
  {
   "cell_type": "code",
   "execution_count": 22,
   "id": "ce8949b4",
   "metadata": {},
   "outputs": [
    {
     "data": {
      "text/plain": [
       "str"
      ]
     },
     "execution_count": 22,
     "metadata": {},
     "output_type": "execute_result"
    }
   ],
   "source": [
    "type(age)"
   ]
  },
  {
   "cell_type": "markdown",
   "id": "85d323cd",
   "metadata": {},
   "source": [
    "# Output of input function will always be a string"
   ]
  },
  {
   "cell_type": "markdown",
   "id": "6ca8800f",
   "metadata": {},
   "source": [
    "# Conversion functions"
   ]
  },
  {
   "cell_type": "code",
   "execution_count": 26,
   "id": "ca20f5db",
   "metadata": {},
   "outputs": [
    {
     "data": {
      "text/plain": [
       "'67'"
      ]
     },
     "execution_count": 26,
     "metadata": {},
     "output_type": "execute_result"
    }
   ],
   "source": [
    "age"
   ]
  },
  {
   "cell_type": "code",
   "execution_count": 27,
   "id": "56d2d72f",
   "metadata": {},
   "outputs": [
    {
     "data": {
      "text/plain": [
       "67.0"
      ]
     },
     "execution_count": 27,
     "metadata": {},
     "output_type": "execute_result"
    }
   ],
   "source": [
    "float(age)"
   ]
  },
  {
   "cell_type": "code",
   "execution_count": 28,
   "id": "e1422b40",
   "metadata": {},
   "outputs": [
    {
     "data": {
      "text/plain": [
       "67"
      ]
     },
     "execution_count": 28,
     "metadata": {},
     "output_type": "execute_result"
    }
   ],
   "source": [
    "int(67)"
   ]
  },
  {
   "cell_type": "code",
   "execution_count": 30,
   "id": "c7674ee5",
   "metadata": {},
   "outputs": [],
   "source": [
    "num = 8.9"
   ]
  },
  {
   "cell_type": "code",
   "execution_count": 31,
   "id": "23d54cc8",
   "metadata": {},
   "outputs": [
    {
     "data": {
      "text/plain": [
       "8.9"
      ]
     },
     "execution_count": 31,
     "metadata": {},
     "output_type": "execute_result"
    }
   ],
   "source": [
    "float(num)"
   ]
  },
  {
   "cell_type": "code",
   "execution_count": 32,
   "id": "fa44bff9",
   "metadata": {},
   "outputs": [
    {
     "data": {
      "text/plain": [
       "8"
      ]
     },
     "execution_count": 32,
     "metadata": {},
     "output_type": "execute_result"
    }
   ],
   "source": [
    "int(8.9)"
   ]
  },
  {
   "cell_type": "code",
   "execution_count": 33,
   "id": "979853a2",
   "metadata": {},
   "outputs": [],
   "source": [
    "num1 = 9"
   ]
  },
  {
   "cell_type": "code",
   "execution_count": 34,
   "id": "b80a819b",
   "metadata": {},
   "outputs": [
    {
     "data": {
      "text/plain": [
       "'9'"
      ]
     },
     "execution_count": 34,
     "metadata": {},
     "output_type": "execute_result"
    }
   ],
   "source": [
    "str(num1)"
   ]
  },
  {
   "cell_type": "code",
   "execution_count": 35,
   "id": "f56061d6",
   "metadata": {},
   "outputs": [
    {
     "data": {
      "text/plain": [
       "9.0"
      ]
     },
     "execution_count": 35,
     "metadata": {},
     "output_type": "execute_result"
    }
   ],
   "source": [
    "float(num1)"
   ]
  },
  {
   "cell_type": "markdown",
   "id": "b15660b6",
   "metadata": {},
   "source": [
    "# Some other functions"
   ]
  },
  {
   "cell_type": "markdown",
   "id": "da58c811",
   "metadata": {},
   "source": [
    "# Calculates the absolute values"
   ]
  },
  {
   "cell_type": "code",
   "execution_count": 41,
   "id": "a0cdb821",
   "metadata": {},
   "outputs": [
    {
     "data": {
      "text/plain": [
       "5"
      ]
     },
     "execution_count": 41,
     "metadata": {},
     "output_type": "execute_result"
    }
   ],
   "source": [
    "abs(5)"
   ]
  },
  {
   "cell_type": "code",
   "execution_count": 42,
   "id": "6a48ac97",
   "metadata": {},
   "outputs": [
    {
     "data": {
      "text/plain": [
       "5"
      ]
     },
     "execution_count": 42,
     "metadata": {},
     "output_type": "execute_result"
    }
   ],
   "source": [
    "abs(-5)"
   ]
  },
  {
   "cell_type": "code",
   "execution_count": 43,
   "id": "fac5c137",
   "metadata": {},
   "outputs": [
    {
     "data": {
      "text/plain": [
       "9.87"
      ]
     },
     "execution_count": 43,
     "metadata": {},
     "output_type": "execute_result"
    }
   ],
   "source": [
    "abs(9.87)"
   ]
  },
  {
   "cell_type": "code",
   "execution_count": 44,
   "id": "4c86a9cf",
   "metadata": {},
   "outputs": [
    {
     "data": {
      "text/plain": [
       "6.56"
      ]
     },
     "execution_count": 44,
     "metadata": {},
     "output_type": "execute_result"
    }
   ],
   "source": [
    "abs(-6.56)"
   ]
  },
  {
   "cell_type": "markdown",
   "id": "1813ff07",
   "metadata": {},
   "source": [
    "# Operators"
   ]
  },
  {
   "cell_type": "markdown",
   "id": "ba46fc2e",
   "metadata": {},
   "source": [
    "# Comparisonal operators"
   ]
  },
  {
   "cell_type": "markdown",
   "id": "afd4a62a",
   "metadata": {},
   "source": [
    "* greater then (>)\n",
    "* smaller then (<)\n",
    "* equal (==)\n",
    "* greater or equal  (>=)\n",
    "* smaller or equal (<=)"
   ]
  },
  {
   "cell_type": "code",
   "execution_count": 55,
   "id": "c4b483b8",
   "metadata": {},
   "outputs": [],
   "source": [
    "x = 9"
   ]
  },
  {
   "cell_type": "code",
   "execution_count": 56,
   "id": "de7352d2",
   "metadata": {},
   "outputs": [],
   "source": [
    "y = 6"
   ]
  },
  {
   "cell_type": "code",
   "execution_count": 57,
   "id": "7e36f549",
   "metadata": {},
   "outputs": [
    {
     "data": {
      "text/plain": [
       "True"
      ]
     },
     "execution_count": 57,
     "metadata": {},
     "output_type": "execute_result"
    }
   ],
   "source": [
    "x > y"
   ]
  },
  {
   "cell_type": "code",
   "execution_count": 58,
   "id": "ec95c2e8",
   "metadata": {},
   "outputs": [
    {
     "data": {
      "text/plain": [
       "False"
      ]
     },
     "execution_count": 58,
     "metadata": {},
     "output_type": "execute_result"
    }
   ],
   "source": [
    "x < y"
   ]
  },
  {
   "cell_type": "code",
   "execution_count": 59,
   "id": "e4a0bd80",
   "metadata": {},
   "outputs": [
    {
     "data": {
      "text/plain": [
       "False"
      ]
     },
     "execution_count": 59,
     "metadata": {},
     "output_type": "execute_result"
    }
   ],
   "source": [
    "x == y"
   ]
  },
  {
   "cell_type": "code",
   "execution_count": 64,
   "id": "76179102",
   "metadata": {},
   "outputs": [],
   "source": [
    "num1 = 8\n",
    "num2 = 7"
   ]
  },
  {
   "cell_type": "code",
   "execution_count": 65,
   "id": "ea103076",
   "metadata": {},
   "outputs": [
    {
     "data": {
      "text/plain": [
       "False"
      ]
     },
     "execution_count": 65,
     "metadata": {},
     "output_type": "execute_result"
    }
   ],
   "source": [
    "num1 == num2"
   ]
  },
  {
   "cell_type": "code",
   "execution_count": 66,
   "id": "3e681e7a",
   "metadata": {},
   "outputs": [],
   "source": [
    "num1 = num2 # Assign num2 to num1"
   ]
  },
  {
   "cell_type": "code",
   "execution_count": 67,
   "id": "00aed759",
   "metadata": {},
   "outputs": [
    {
     "data": {
      "text/plain": [
       "7"
      ]
     },
     "execution_count": 67,
     "metadata": {},
     "output_type": "execute_result"
    }
   ],
   "source": [
    "num1"
   ]
  },
  {
   "cell_type": "code",
   "execution_count": 68,
   "id": "d986fc1c",
   "metadata": {},
   "outputs": [
    {
     "data": {
      "text/plain": [
       "7"
      ]
     },
     "execution_count": 68,
     "metadata": {},
     "output_type": "execute_result"
    }
   ],
   "source": [
    "num2"
   ]
  },
  {
   "cell_type": "code",
   "execution_count": 69,
   "id": "c6ec90b5",
   "metadata": {},
   "outputs": [],
   "source": [
    "a = 3\n",
    "b = 4\n",
    "c = 7\n",
    "d = 9"
   ]
  },
  {
   "cell_type": "code",
   "execution_count": 70,
   "id": "e61c8199",
   "metadata": {},
   "outputs": [],
   "source": [
    "a,b,c,d = 3,4,7,9"
   ]
  },
  {
   "cell_type": "code",
   "execution_count": 71,
   "id": "8119fd22",
   "metadata": {},
   "outputs": [
    {
     "data": {
      "text/plain": [
       "3"
      ]
     },
     "execution_count": 71,
     "metadata": {},
     "output_type": "execute_result"
    }
   ],
   "source": [
    "a"
   ]
  },
  {
   "cell_type": "code",
   "execution_count": 72,
   "id": "fb358edf",
   "metadata": {},
   "outputs": [
    {
     "data": {
      "text/plain": [
       "4"
      ]
     },
     "execution_count": 72,
     "metadata": {},
     "output_type": "execute_result"
    }
   ],
   "source": [
    "b"
   ]
  },
  {
   "cell_type": "code",
   "execution_count": 73,
   "id": "f935556b",
   "metadata": {},
   "outputs": [
    {
     "data": {
      "text/plain": [
       "7"
      ]
     },
     "execution_count": 73,
     "metadata": {},
     "output_type": "execute_result"
    }
   ],
   "source": [
    "c"
   ]
  },
  {
   "cell_type": "code",
   "execution_count": 74,
   "id": "48491580",
   "metadata": {},
   "outputs": [
    {
     "data": {
      "text/plain": [
       "9"
      ]
     },
     "execution_count": 74,
     "metadata": {},
     "output_type": "execute_result"
    }
   ],
   "source": [
    "d"
   ]
  },
  {
   "cell_type": "code",
   "execution_count": 75,
   "id": "60d2e49b",
   "metadata": {},
   "outputs": [],
   "source": [
    "# Swapping of numbers"
   ]
  },
  {
   "cell_type": "code",
   "execution_count": 84,
   "id": "516a28fe",
   "metadata": {},
   "outputs": [],
   "source": [
    "m, n = 9, 10"
   ]
  },
  {
   "cell_type": "code",
   "execution_count": 77,
   "id": "07903cd4",
   "metadata": {},
   "outputs": [
    {
     "data": {
      "text/plain": [
       "9"
      ]
     },
     "execution_count": 77,
     "metadata": {},
     "output_type": "execute_result"
    }
   ],
   "source": [
    "m"
   ]
  },
  {
   "cell_type": "code",
   "execution_count": 78,
   "id": "79bcfccd",
   "metadata": {},
   "outputs": [
    {
     "data": {
      "text/plain": [
       "10"
      ]
     },
     "execution_count": 78,
     "metadata": {},
     "output_type": "execute_result"
    }
   ],
   "source": [
    "n"
   ]
  },
  {
   "cell_type": "code",
   "execution_count": 79,
   "id": "79c6652a",
   "metadata": {},
   "outputs": [],
   "source": [
    "m = n"
   ]
  },
  {
   "cell_type": "code",
   "execution_count": 80,
   "id": "010b9c63",
   "metadata": {},
   "outputs": [
    {
     "data": {
      "text/plain": [
       "10"
      ]
     },
     "execution_count": 80,
     "metadata": {},
     "output_type": "execute_result"
    }
   ],
   "source": [
    "m"
   ]
  },
  {
   "cell_type": "code",
   "execution_count": 81,
   "id": "f3b84bfe",
   "metadata": {},
   "outputs": [
    {
     "data": {
      "text/plain": [
       "10"
      ]
     },
     "execution_count": 81,
     "metadata": {},
     "output_type": "execute_result"
    }
   ],
   "source": [
    "n"
   ]
  },
  {
   "cell_type": "code",
   "execution_count": 82,
   "id": "4c006d0c",
   "metadata": {},
   "outputs": [
    {
     "data": {
      "text/plain": [
       "10"
      ]
     },
     "execution_count": 82,
     "metadata": {},
     "output_type": "execute_result"
    }
   ],
   "source": [
    "m"
   ]
  },
  {
   "cell_type": "code",
   "execution_count": 83,
   "id": "62bef3a2",
   "metadata": {},
   "outputs": [
    {
     "data": {
      "text/plain": [
       "10"
      ]
     },
     "execution_count": 83,
     "metadata": {},
     "output_type": "execute_result"
    }
   ],
   "source": [
    "n"
   ]
  },
  {
   "cell_type": "code",
   "execution_count": 85,
   "id": "f613410f",
   "metadata": {},
   "outputs": [],
   "source": [
    "x = m"
   ]
  },
  {
   "cell_type": "code",
   "execution_count": 86,
   "id": "b8e952c7",
   "metadata": {},
   "outputs": [],
   "source": [
    "m = n"
   ]
  },
  {
   "cell_type": "code",
   "execution_count": 87,
   "id": "6d6326d6",
   "metadata": {},
   "outputs": [],
   "source": [
    "n = x"
   ]
  },
  {
   "cell_type": "code",
   "execution_count": 88,
   "id": "ec6409c2",
   "metadata": {},
   "outputs": [
    {
     "data": {
      "text/plain": [
       "10"
      ]
     },
     "execution_count": 88,
     "metadata": {},
     "output_type": "execute_result"
    }
   ],
   "source": [
    "m"
   ]
  },
  {
   "cell_type": "code",
   "execution_count": 89,
   "id": "226da248",
   "metadata": {},
   "outputs": [
    {
     "data": {
      "text/plain": [
       "9"
      ]
     },
     "execution_count": 89,
     "metadata": {},
     "output_type": "execute_result"
    }
   ],
   "source": [
    "n"
   ]
  },
  {
   "cell_type": "code",
   "execution_count": 90,
   "id": "a225baaa",
   "metadata": {},
   "outputs": [
    {
     "data": {
      "text/plain": [
       "10"
      ]
     },
     "execution_count": 90,
     "metadata": {},
     "output_type": "execute_result"
    }
   ],
   "source": [
    "m"
   ]
  },
  {
   "cell_type": "code",
   "execution_count": 91,
   "id": "7ddeb24a",
   "metadata": {},
   "outputs": [
    {
     "data": {
      "text/plain": [
       "9"
      ]
     },
     "execution_count": 91,
     "metadata": {},
     "output_type": "execute_result"
    }
   ],
   "source": [
    "n"
   ]
  },
  {
   "cell_type": "code",
   "execution_count": 95,
   "id": "fd2c2a89",
   "metadata": {},
   "outputs": [],
   "source": [
    "# Swapping of numbers\n",
    "m,n = n,m"
   ]
  },
  {
   "cell_type": "code",
   "execution_count": 96,
   "id": "071cf589",
   "metadata": {},
   "outputs": [
    {
     "data": {
      "text/plain": [
       "10"
      ]
     },
     "execution_count": 96,
     "metadata": {},
     "output_type": "execute_result"
    }
   ],
   "source": [
    "m"
   ]
  },
  {
   "cell_type": "code",
   "execution_count": 97,
   "id": "5aa189a0",
   "metadata": {},
   "outputs": [
    {
     "data": {
      "text/plain": [
       "9"
      ]
     },
     "execution_count": 97,
     "metadata": {},
     "output_type": "execute_result"
    }
   ],
   "source": [
    "n"
   ]
  },
  {
   "cell_type": "code",
   "execution_count": 98,
   "id": "a33862e2",
   "metadata": {},
   "outputs": [],
   "source": [
    "# Round off functions\n",
    "b = 9.87654"
   ]
  },
  {
   "cell_type": "code",
   "execution_count": 99,
   "id": "8caa8615",
   "metadata": {},
   "outputs": [
    {
     "data": {
      "text/plain": [
       "9.88"
      ]
     },
     "execution_count": 99,
     "metadata": {},
     "output_type": "execute_result"
    }
   ],
   "source": [
    "round(b,2)"
   ]
  },
  {
   "cell_type": "code",
   "execution_count": 102,
   "id": "854bea9d",
   "metadata": {},
   "outputs": [
    {
     "data": {
      "text/plain": [
       "8.0"
      ]
     },
     "execution_count": 102,
     "metadata": {},
     "output_type": "execute_result"
    }
   ],
   "source": [
    "round(8.123,0)"
   ]
  },
  {
   "cell_type": "code",
   "execution_count": 103,
   "id": "843089c1",
   "metadata": {},
   "outputs": [
    {
     "data": {
      "text/plain": [
       "1350125107"
      ]
     },
     "execution_count": 103,
     "metadata": {},
     "output_type": "execute_result"
    }
   ],
   "source": [
    "pow(67,5)"
   ]
  },
  {
   "cell_type": "code",
   "execution_count": 105,
   "id": "b7258638",
   "metadata": {},
   "outputs": [
    {
     "data": {
      "text/plain": [
       "64"
      ]
     },
     "execution_count": 105,
     "metadata": {},
     "output_type": "execute_result"
    }
   ],
   "source": [
    "pow(2,6)"
   ]
  },
  {
   "cell_type": "code",
   "execution_count": 106,
   "id": "42a95d34",
   "metadata": {},
   "outputs": [
    {
     "data": {
      "text/plain": [
       "30"
      ]
     },
     "execution_count": 106,
     "metadata": {},
     "output_type": "execute_result"
    }
   ],
   "source": [
    "len(text)"
   ]
  },
  {
   "cell_type": "code",
   "execution_count": 107,
   "id": "c6feeefa",
   "metadata": {},
   "outputs": [],
   "source": [
    "j = \"    python      \""
   ]
  },
  {
   "cell_type": "code",
   "execution_count": 109,
   "id": "6badbf8c",
   "metadata": {},
   "outputs": [
    {
     "data": {
      "text/plain": [
       "16"
      ]
     },
     "execution_count": 109,
     "metadata": {},
     "output_type": "execute_result"
    }
   ],
   "source": [
    "len(j)"
   ]
  },
  {
   "cell_type": "markdown",
   "id": "6a691577",
   "metadata": {},
   "source": [
    "# Indexing"
   ]
  },
  {
   "cell_type": "code",
   "execution_count": 111,
   "id": "d05680de",
   "metadata": {},
   "outputs": [],
   "source": [
    "s = \"This is python class\""
   ]
  },
  {
   "cell_type": "code",
   "execution_count": 113,
   "id": "61e73083",
   "metadata": {},
   "outputs": [
    {
     "data": {
      "text/plain": [
       "'This'"
      ]
     },
     "execution_count": 113,
     "metadata": {},
     "output_type": "execute_result"
    }
   ],
   "source": [
    "s[0:4]"
   ]
  },
  {
   "cell_type": "code",
   "execution_count": 116,
   "id": "fd234b20",
   "metadata": {},
   "outputs": [
    {
     "data": {
      "text/plain": [
       "'This '"
      ]
     },
     "execution_count": 116,
     "metadata": {},
     "output_type": "execute_result"
    }
   ],
   "source": [
    "s[0:5:1]"
   ]
  },
  {
   "cell_type": "code",
   "execution_count": null,
   "id": "de6b9a2e",
   "metadata": {},
   "outputs": [],
   "source": []
  }
 ],
 "metadata": {
  "kernelspec": {
   "display_name": "Python 3 (ipykernel)",
   "language": "python",
   "name": "python3"
  },
  "language_info": {
   "codemirror_mode": {
    "name": "ipython",
    "version": 3
   },
   "file_extension": ".py",
   "mimetype": "text/x-python",
   "name": "python",
   "nbconvert_exporter": "python",
   "pygments_lexer": "ipython3",
   "version": "3.11.5"
  }
 },
 "nbformat": 4,
 "nbformat_minor": 5
}
