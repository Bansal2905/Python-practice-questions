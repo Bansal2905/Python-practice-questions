{
 "cells": [
  {
   "cell_type": "code",
   "execution_count": 1,
   "id": "1a35bd13",
   "metadata": {},
   "outputs": [],
   "source": [
    "def sum(n):\n",
    "    s = 0\n",
    "    for i in range(n+1):\n",
    "        s = s + i**2\n",
    "    return s"
   ]
  },
  {
   "cell_type": "code",
   "execution_count": 2,
   "id": "48d41ea5",
   "metadata": {},
   "outputs": [],
   "source": [
    "def ispalindrome(string):\n",
    "    string = string.lower()\n",
    "    reverse = string[::-1]\n",
    "    if string == reverse:\n",
    "        return \"The string is palindrome\"\n",
    "    else:\n",
    "        return \"The string is not palindrome\""
   ]
  },
  {
   "cell_type": "code",
   "execution_count": null,
   "id": "83797678",
   "metadata": {},
   "outputs": [],
   "source": []
  }
 ],
 "metadata": {
  "kernelspec": {
   "display_name": "Python 3 (ipykernel)",
   "language": "python",
   "name": "python3"
  },
  "language_info": {
   "codemirror_mode": {
    "name": "ipython",
    "version": 3
   },
   "file_extension": ".py",
   "mimetype": "text/x-python",
   "name": "python",
   "nbconvert_exporter": "python",
   "pygments_lexer": "ipython3",
   "version": "3.11.5"
  }
 },
 "nbformat": 4,
 "nbformat_minor": 5
}
