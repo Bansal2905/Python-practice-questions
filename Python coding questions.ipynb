{
 "cells": [
  {
   "cell_type": "markdown",
   "id": "7ac1f1fd",
   "metadata": {},
   "source": [
    "# Python Program for Sum of squares of first n natural numbers "
   ]
  },
  {
   "cell_type": "code",
   "execution_count": 1,
   "id": "605c5ee4",
   "metadata": {},
   "outputs": [],
   "source": [
    "def sum(n):\n",
    "    s = 0\n",
    "    for i in range(n+1):\n",
    "        s = s + i**2\n",
    "    return s"
   ]
  },
  {
   "cell_type": "code",
   "execution_count": 3,
   "id": "595071cf",
   "metadata": {},
   "outputs": [
    {
     "data": {
      "text/plain": [
       "55"
      ]
     },
     "execution_count": 3,
     "metadata": {},
     "output_type": "execute_result"
    }
   ],
   "source": [
    "sum(5)"
   ]
  },
  {
   "cell_type": "markdown",
   "id": "5e5b3e65",
   "metadata": {},
   "source": [
    "# Python program to check whether the string is Symmetrical or Palindrome"
   ]
  },
  {
   "cell_type": "code",
   "execution_count": 5,
   "id": "c11e8693",
   "metadata": {},
   "outputs": [],
   "source": [
    "def ispalindrome(string):\n",
    "    string = string.lower()\n",
    "    reverse = string[::-1]\n",
    "    if string == reverse:\n",
    "        return \"The string is palindrome\"\n",
    "    else:\n",
    "        return \"The string is not palindrome\""
   ]
  },
  {
   "cell_type": "code",
   "execution_count": 8,
   "id": "96bcf16f",
   "metadata": {},
   "outputs": [
    {
     "data": {
      "text/plain": [
       "'The string is palindrome'"
      ]
     },
     "execution_count": 8,
     "metadata": {},
     "output_type": "execute_result"
    }
   ],
   "source": [
    "ispalindrome(\"amama\")"
   ]
  },
  {
   "cell_type": "code",
   "execution_count": 9,
   "id": "ac19f495",
   "metadata": {},
   "outputs": [
    {
     "data": {
      "text/plain": [
       "'The string is palindrome'"
      ]
     },
     "execution_count": 9,
     "metadata": {},
     "output_type": "execute_result"
    }
   ],
   "source": [
    "ispalindrome('malayalam')"
   ]
  },
  {
   "cell_type": "markdown",
   "id": "f62b5815",
   "metadata": {},
   "source": [
    "# Python program to sort a list of tuples by second Item "
   ]
  },
  {
   "cell_type": "code",
   "execution_count": 15,
   "id": "99b7f9da",
   "metadata": {},
   "outputs": [],
   "source": [
    "def sort(array):\n",
    "    return sorted(array,key = lambda x:x[1])"
   ]
  },
  {
   "cell_type": "code",
   "execution_count": 16,
   "id": "ec63fc76",
   "metadata": {},
   "outputs": [
    {
     "data": {
      "text/plain": [
       "[('Bob', 25, 60000),\n",
       " ('David', 28, 55000),\n",
       " ('Alice', 30, 50000),\n",
       " ('Charlie', 35, 45000)]"
      ]
     },
     "execution_count": 16,
     "metadata": {},
     "output_type": "execute_result"
    }
   ],
   "source": [
    "people = [(\"Alice\", 30, 50000), (\"Bob\", 25, 60000), (\"Charlie\", 35, 45000), (\"David\", 28, 55000)]\n",
    "sort(people)"
   ]
  },
  {
   "cell_type": "markdown",
   "id": "19240450",
   "metadata": {},
   "source": [
    "# Convert a list of Tuples into Dictionary "
   ]
  },
  {
   "cell_type": "code",
   "execution_count": 17,
   "id": "e0227b4d",
   "metadata": {},
   "outputs": [],
   "source": [
    "def convert(array):\n",
    "    ref_dic = {}\n",
    "    for i in array:\n",
    "        ref_dic[i[0]] = i[1]\n",
    "    return ref_dic"
   ]
  },
  {
   "cell_type": "code",
   "execution_count": 18,
   "id": "2a1b25b6",
   "metadata": {},
   "outputs": [],
   "source": [
    "list_of_tuples = [(\"a\", 1), (\"b\", 2), (\"c\", 3)]"
   ]
  },
  {
   "cell_type": "code",
   "execution_count": 19,
   "id": "2f39bc2f",
   "metadata": {},
   "outputs": [
    {
     "data": {
      "text/plain": [
       "{'a': 1, 'b': 2, 'c': 3}"
      ]
     },
     "execution_count": 19,
     "metadata": {},
     "output_type": "execute_result"
    }
   ],
   "source": [
    "convert(list_of_tuples)"
   ]
  },
  {
   "cell_type": "code",
   "execution_count": 20,
   "id": "a5ab12f3",
   "metadata": {},
   "outputs": [
    {
     "data": {
      "text/plain": [
       "{'a': 1, 'b': 2, 'c': 3}"
      ]
     },
     "execution_count": 20,
     "metadata": {},
     "output_type": "execute_result"
    }
   ],
   "source": [
    "dict(list_of_tuples)"
   ]
  },
  {
   "cell_type": "code",
   "execution_count": 21,
   "id": "918f4ab8",
   "metadata": {},
   "outputs": [
    {
     "data": {
      "text/plain": [
       "{'g', 'h', 'j', 'q', 'u', 'x'}"
      ]
     },
     "execution_count": 21,
     "metadata": {},
     "output_type": "execute_result"
    }
   ],
   "source": [
    "set(\"jhxgqjuxxx\")"
   ]
  },
  {
   "cell_type": "markdown",
   "id": "31b28e72",
   "metadata": {},
   "source": [
    "# Program to accept the strings which contains all vowels"
   ]
  },
  {
   "cell_type": "code",
   "execution_count": 42,
   "id": "c9d2842d",
   "metadata": {},
   "outputs": [],
   "source": [
    "def check(string):\n",
    "    string = string.lower()\n",
    "    vowels = \"aeiou\"\n",
    "    unique = set(string)\n",
    "    test = set()\n",
    "    for i in vowels:\n",
    "        if i in unique:\n",
    "            test.add(i)\n",
    "    if len(test) == len(vowels):\n",
    "        return \"Accepted\"\n",
    "    else:\n",
    "        return \"Not Accepted\""
   ]
  },
  {
   "cell_type": "code",
   "execution_count": 51,
   "id": "54812f08",
   "metadata": {},
   "outputs": [],
   "source": [
    "test = \"ths aeios pythn crs\""
   ]
  },
  {
   "cell_type": "code",
   "execution_count": 52,
   "id": "757a21fb",
   "metadata": {},
   "outputs": [
    {
     "data": {
      "text/plain": [
       "'Not Accepted'"
      ]
     },
     "execution_count": 52,
     "metadata": {},
     "output_type": "execute_result"
    }
   ],
   "source": [
    "check(test)"
   ]
  },
  {
   "cell_type": "code",
   "execution_count": 53,
   "id": "ba8eb594",
   "metadata": {},
   "outputs": [
    {
     "data": {
      "text/plain": [
       "'Accepted'"
      ]
     },
     "execution_count": 53,
     "metadata": {},
     "output_type": "execute_result"
    }
   ],
   "source": [
    "check(\"these are vowels aeiou\")"
   ]
  },
  {
   "cell_type": "markdown",
   "id": "e0398195",
   "metadata": {},
   "source": [
    "#  Python program to interchange first and last elements in a list"
   ]
  },
  {
   "cell_type": "code",
   "execution_count": 54,
   "id": "2c94e5da",
   "metadata": {},
   "outputs": [],
   "source": [
    "def interchange(array):\n",
    "    array[0],array[-1] = array[-1],array[0]\n",
    "    return array"
   ]
  },
  {
   "cell_type": "code",
   "execution_count": 56,
   "id": "15495da8",
   "metadata": {},
   "outputs": [
    {
     "data": {
      "text/plain": [
       "[6, 2, 3, 4, 5, 1]"
      ]
     },
     "execution_count": 56,
     "metadata": {},
     "output_type": "execute_result"
    }
   ],
   "source": [
    "interchange([1,2,3,4,5,6])"
   ]
  },
  {
   "cell_type": "code",
   "execution_count": null,
   "id": "d52706be",
   "metadata": {},
   "outputs": [],
   "source": []
  }
 ],
 "metadata": {
  "kernelspec": {
   "display_name": "Python 3 (ipykernel)",
   "language": "python",
   "name": "python3"
  },
  "language_info": {
   "codemirror_mode": {
    "name": "ipython",
    "version": 3
   },
   "file_extension": ".py",
   "mimetype": "text/x-python",
   "name": "python",
   "nbconvert_exporter": "python",
   "pygments_lexer": "ipython3",
   "version": "3.11.5"
  }
 },
 "nbformat": 4,
 "nbformat_minor": 5
}
