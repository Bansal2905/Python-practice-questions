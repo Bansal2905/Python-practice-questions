{
 "cells": [
  {
   "cell_type": "markdown",
   "id": "c9768916",
   "metadata": {},
   "source": [
    "# Iterables"
   ]
  },
  {
   "cell_type": "code",
   "execution_count": 1,
   "id": "e1de6f76",
   "metadata": {},
   "outputs": [],
   "source": [
    "l = [1,2,3,4,5]"
   ]
  },
  {
   "cell_type": "code",
   "execution_count": 2,
   "id": "c5f4fab0",
   "metadata": {},
   "outputs": [
    {
     "name": "stdout",
     "output_type": "stream",
     "text": [
      "1\n",
      "2\n",
      "3\n",
      "4\n",
      "5\n"
     ]
    }
   ],
   "source": [
    "for i in l:\n",
    "    print(i)"
   ]
  },
  {
   "cell_type": "code",
   "execution_count": 3,
   "id": "075c6602",
   "metadata": {},
   "outputs": [],
   "source": [
    "k = []\n",
    "for i in l:\n",
    "    k.append(i**2)"
   ]
  },
  {
   "cell_type": "code",
   "execution_count": 4,
   "id": "810fa638",
   "metadata": {},
   "outputs": [
    {
     "data": {
      "text/plain": [
       "[1, 4, 9, 16, 25]"
      ]
     },
     "execution_count": 4,
     "metadata": {},
     "output_type": "execute_result"
    }
   ],
   "source": [
    "k"
   ]
  },
  {
   "cell_type": "code",
   "execution_count": 5,
   "id": "32040c3a",
   "metadata": {},
   "outputs": [],
   "source": [
    "j = (4,2,5,4,6,7)"
   ]
  },
  {
   "cell_type": "code",
   "execution_count": 6,
   "id": "d0867dab",
   "metadata": {},
   "outputs": [
    {
     "name": "stdout",
     "output_type": "stream",
     "text": [
      "4\n",
      "2\n",
      "5\n",
      "4\n",
      "6\n",
      "7\n"
     ]
    }
   ],
   "source": [
    "for i in j:\n",
    "    print(i)"
   ]
  },
  {
   "cell_type": "code",
   "execution_count": 7,
   "id": "9f30afd5",
   "metadata": {},
   "outputs": [],
   "source": [
    "d = {2,1,3,5,6,4,3,2,2,1,1,4,3,4,4,5}"
   ]
  },
  {
   "cell_type": "code",
   "execution_count": 8,
   "id": "9dbc9c13",
   "metadata": {},
   "outputs": [
    {
     "data": {
      "text/plain": [
       "{1, 2, 3, 4, 5, 6}"
      ]
     },
     "execution_count": 8,
     "metadata": {},
     "output_type": "execute_result"
    }
   ],
   "source": [
    "d"
   ]
  },
  {
   "cell_type": "code",
   "execution_count": 9,
   "id": "a8b77af3",
   "metadata": {},
   "outputs": [
    {
     "name": "stdout",
     "output_type": "stream",
     "text": [
      "1\n",
      "2\n",
      "3\n",
      "4\n",
      "5\n",
      "6\n"
     ]
    }
   ],
   "source": [
    "for i in d:\n",
    "    print(i)"
   ]
  },
  {
   "cell_type": "markdown",
   "id": "2716da9c",
   "metadata": {},
   "source": [
    "# Creating a dictionry"
   ]
  },
  {
   "cell_type": "code",
   "execution_count": 10,
   "id": "5fd101e3",
   "metadata": {},
   "outputs": [],
   "source": [
    "subjects = {\"Aarav\":\"Physics\",\"Batman\":\"Chemistry\",\"Chetan\":\"Maths\"}"
   ]
  },
  {
   "cell_type": "code",
   "execution_count": 12,
   "id": "18589718",
   "metadata": {},
   "outputs": [
    {
     "data": {
      "text/plain": [
       "'Maths'"
      ]
     },
     "execution_count": 12,
     "metadata": {},
     "output_type": "execute_result"
    }
   ],
   "source": [
    "subjects[\"Chetan\"]"
   ]
  },
  {
   "cell_type": "markdown",
   "id": "d009319a",
   "metadata": {},
   "source": [
    "# Dictionries are unordered"
   ]
  },
  {
   "cell_type": "code",
   "execution_count": 13,
   "id": "580f99c7",
   "metadata": {},
   "outputs": [],
   "source": [
    "# dumps every thing(empty the dictionry)\n",
    "subjects.clear()"
   ]
  },
  {
   "cell_type": "code",
   "execution_count": 14,
   "id": "08a1d324",
   "metadata": {},
   "outputs": [
    {
     "data": {
      "text/plain": [
       "{}"
      ]
     },
     "execution_count": 14,
     "metadata": {},
     "output_type": "execute_result"
    }
   ],
   "source": [
    "subjects"
   ]
  },
  {
   "cell_type": "code",
   "execution_count": 15,
   "id": "ef8a2f3e",
   "metadata": {},
   "outputs": [],
   "source": [
    "subjects = {\"Aarav\":\"Physics\",\"Batman\":\"Chemistry\",\"Chetan\":\"Maths\"}"
   ]
  },
  {
   "cell_type": "code",
   "execution_count": 16,
   "id": "b8520a13",
   "metadata": {},
   "outputs": [
    {
     "data": {
      "text/plain": [
       "{1: 'value', 2: 'value', 3: 'value', 4: 'value', 5: 'value'}"
      ]
     },
     "execution_count": 16,
     "metadata": {},
     "output_type": "execute_result"
    }
   ],
   "source": [
    "subjects.fromkeys([1,2,3,4,5],\"value\")"
   ]
  },
  {
   "cell_type": "code",
   "execution_count": 26,
   "id": "5f6abca8",
   "metadata": {},
   "outputs": [],
   "source": [
    "new = subjects.items()"
   ]
  },
  {
   "cell_type": "code",
   "execution_count": 37,
   "id": "3ff2da27",
   "metadata": {},
   "outputs": [
    {
     "data": {
      "text/plain": [
       "('Chetan', 'Maths')"
      ]
     },
     "execution_count": 37,
     "metadata": {},
     "output_type": "execute_result"
    }
   ],
   "source": [
    "list(new)[2]"
   ]
  },
  {
   "cell_type": "code",
   "execution_count": 41,
   "id": "350588c2",
   "metadata": {},
   "outputs": [],
   "source": [
    "# Changing the values based on keys\n",
    "subjects[\"Aarav\"] = \"Commerce\""
   ]
  },
  {
   "cell_type": "code",
   "execution_count": 42,
   "id": "d67533a4",
   "metadata": {},
   "outputs": [
    {
     "data": {
      "text/plain": [
       "{'Aarav': 'Commerce', 'Batman': 'Chemistry', 'Chetan': 'Maths'}"
      ]
     },
     "execution_count": 42,
     "metadata": {},
     "output_type": "execute_result"
    }
   ],
   "source": [
    "subjects"
   ]
  },
  {
   "cell_type": "code",
   "execution_count": 43,
   "id": "def707be",
   "metadata": {},
   "outputs": [],
   "source": [
    "subjects[\"Tom\"] = \"English\""
   ]
  },
  {
   "cell_type": "code",
   "execution_count": 44,
   "id": "454ee480",
   "metadata": {},
   "outputs": [
    {
     "data": {
      "text/plain": [
       "{'Aarav': 'Commerce',\n",
       " 'Batman': 'Chemistry',\n",
       " 'Chetan': 'Maths',\n",
       " 'Tom': 'English'}"
      ]
     },
     "execution_count": 44,
     "metadata": {},
     "output_type": "execute_result"
    }
   ],
   "source": [
    "subjects"
   ]
  },
  {
   "cell_type": "code",
   "execution_count": 45,
   "id": "f0c73e82",
   "metadata": {},
   "outputs": [
    {
     "name": "stdout",
     "output_type": "stream",
     "text": [
      "Aarav\n",
      "Batman\n",
      "Chetan\n",
      "Tom\n"
     ]
    }
   ],
   "source": [
    "for i in subjects:\n",
    "    print(i) "
   ]
  },
  {
   "cell_type": "markdown",
   "id": "c3a0a23e",
   "metadata": {},
   "source": [
    "# For loop"
   ]
  },
  {
   "cell_type": "code",
   "execution_count": 46,
   "id": "f6a5e44e",
   "metadata": {},
   "outputs": [],
   "source": [
    "l = range(1000)"
   ]
  },
  {
   "cell_type": "code",
   "execution_count": 53,
   "id": "15ec1883",
   "metadata": {},
   "outputs": [
    {
     "name": "stdout",
     "output_type": "stream",
     "text": [
      "0\n",
      "10\n",
      "20\n",
      "30\n",
      "40\n",
      "50\n",
      "60\n",
      "70\n",
      "80\n",
      "90\n",
      "100\n",
      "110\n",
      "120\n",
      "130\n",
      "140\n",
      "150\n",
      "160\n",
      "170\n",
      "180\n",
      "190\n",
      "200\n",
      "210\n",
      "220\n",
      "230\n",
      "240\n",
      "250\n",
      "260\n",
      "270\n",
      "280\n",
      "290\n",
      "300\n",
      "310\n",
      "320\n",
      "330\n",
      "340\n",
      "350\n",
      "360\n",
      "370\n",
      "380\n",
      "390\n",
      "400\n",
      "410\n",
      "420\n",
      "430\n",
      "440\n",
      "450\n",
      "460\n",
      "470\n",
      "480\n",
      "490\n",
      "500\n",
      "510\n",
      "520\n",
      "530\n",
      "540\n",
      "550\n",
      "560\n",
      "570\n",
      "580\n",
      "590\n",
      "600\n",
      "610\n",
      "620\n",
      "630\n",
      "640\n",
      "650\n",
      "660\n",
      "670\n",
      "680\n",
      "690\n",
      "700\n",
      "710\n",
      "720\n",
      "730\n",
      "740\n",
      "750\n",
      "760\n",
      "770\n",
      "780\n",
      "790\n",
      "800\n",
      "810\n",
      "820\n",
      "830\n",
      "840\n",
      "850\n",
      "860\n",
      "870\n",
      "880\n",
      "890\n",
      "900\n",
      "910\n",
      "920\n",
      "930\n",
      "940\n",
      "950\n",
      "960\n",
      "970\n",
      "980\n",
      "990\n"
     ]
    }
   ],
   "source": [
    "for i in l:\n",
    "    if i%10 == 0:\n",
    "        print(i)"
   ]
  },
  {
   "cell_type": "code",
   "execution_count": 49,
   "id": "a3717bce",
   "metadata": {},
   "outputs": [
    {
     "data": {
      "text/plain": [
       "2.0"
      ]
     },
     "execution_count": 49,
     "metadata": {},
     "output_type": "execute_result"
    }
   ],
   "source": [
    "8/4"
   ]
  },
  {
   "cell_type": "code",
   "execution_count": 50,
   "id": "d86d5205",
   "metadata": {},
   "outputs": [
    {
     "data": {
      "text/plain": [
       "4.5"
      ]
     },
     "execution_count": 50,
     "metadata": {},
     "output_type": "execute_result"
    }
   ],
   "source": [
    "# Quuotient\n",
    "9/2"
   ]
  },
  {
   "cell_type": "code",
   "execution_count": 51,
   "id": "89160940",
   "metadata": {},
   "outputs": [
    {
     "data": {
      "text/plain": [
       "4"
      ]
     },
     "execution_count": 51,
     "metadata": {},
     "output_type": "execute_result"
    }
   ],
   "source": [
    "# FlOor division\n",
    "9//2"
   ]
  },
  {
   "cell_type": "code",
   "execution_count": 52,
   "id": "94f1399c",
   "metadata": {},
   "outputs": [
    {
     "data": {
      "text/plain": [
       "1"
      ]
     },
     "execution_count": 52,
     "metadata": {},
     "output_type": "execute_result"
    }
   ],
   "source": [
    "# % Modulo operator(gives the remainder)\n",
    "9%2"
   ]
  },
  {
   "cell_type": "code",
   "execution_count": 54,
   "id": "334e17be",
   "metadata": {},
   "outputs": [],
   "source": [
    "t = \"Mars is the fourth planet from the Sun. The surface of Mars is orange-red because it is covered in iron(III) oxide dust, giving it the nickname the Red Planet Mars hosts many enormous extinct volcanos and one of the largest canyons in the Solar System. For comparison\""
   ]
  },
  {
   "cell_type": "markdown",
   "id": "670805e5",
   "metadata": {},
   "source": [
    "# Find out largest word in t"
   ]
  },
  {
   "cell_type": "code",
   "execution_count": 55,
   "id": "4d421679",
   "metadata": {},
   "outputs": [],
   "source": [
    "words = t.split()"
   ]
  },
  {
   "cell_type": "code",
   "execution_count": 56,
   "id": "fcd698ea",
   "metadata": {},
   "outputs": [
    {
     "data": {
      "text/plain": [
       "['Mars',\n",
       " 'is',\n",
       " 'the',\n",
       " 'fourth',\n",
       " 'planet',\n",
       " 'from',\n",
       " 'the',\n",
       " 'Sun.',\n",
       " 'The',\n",
       " 'surface',\n",
       " 'of',\n",
       " 'Mars',\n",
       " 'is',\n",
       " 'orange-red',\n",
       " 'because',\n",
       " 'it',\n",
       " 'is',\n",
       " 'covered',\n",
       " 'in',\n",
       " 'iron(III)',\n",
       " 'oxide',\n",
       " 'dust,',\n",
       " 'giving',\n",
       " 'it',\n",
       " 'the',\n",
       " 'nickname',\n",
       " 'the',\n",
       " 'Red',\n",
       " 'Planet',\n",
       " 'Mars',\n",
       " 'hosts',\n",
       " 'many',\n",
       " 'enormous',\n",
       " 'extinct',\n",
       " 'volcanos',\n",
       " 'and',\n",
       " 'one',\n",
       " 'of',\n",
       " 'the',\n",
       " 'largest',\n",
       " 'canyons',\n",
       " 'in',\n",
       " 'the',\n",
       " 'Solar',\n",
       " 'System.',\n",
       " 'For',\n",
       " 'comparison']"
      ]
     },
     "execution_count": 56,
     "metadata": {},
     "output_type": "execute_result"
    }
   ],
   "source": [
    "words"
   ]
  },
  {
   "cell_type": "code",
   "execution_count": 57,
   "id": "ac1f7af3",
   "metadata": {},
   "outputs": [],
   "source": [
    "length =  []\n",
    "for i in words:\n",
    "    length.append(len(i))"
   ]
  },
  {
   "cell_type": "code",
   "execution_count": 59,
   "id": "98d9e239",
   "metadata": {},
   "outputs": [],
   "source": [
    "length.sort()"
   ]
  },
  {
   "cell_type": "code",
   "execution_count": 61,
   "id": "6d7ead68",
   "metadata": {},
   "outputs": [
    {
     "data": {
      "text/plain": [
       "10"
      ]
     },
     "execution_count": 61,
     "metadata": {},
     "output_type": "execute_result"
    }
   ],
   "source": [
    "length[-1]"
   ]
  },
  {
   "cell_type": "code",
   "execution_count": null,
   "id": "bcada88f",
   "metadata": {},
   "outputs": [],
   "source": []
  },
  {
   "cell_type": "code",
   "execution_count": 62,
   "id": "557f3984",
   "metadata": {},
   "outputs": [
    {
     "data": {
      "text/plain": [
       "['Mars',\n",
       " 'is',\n",
       " 'the',\n",
       " 'fourth',\n",
       " 'planet',\n",
       " 'from',\n",
       " 'the',\n",
       " 'Sun.',\n",
       " 'The',\n",
       " 'surface',\n",
       " 'of',\n",
       " 'Mars',\n",
       " 'is',\n",
       " 'orange-red',\n",
       " 'because',\n",
       " 'it',\n",
       " 'is',\n",
       " 'covered',\n",
       " 'in',\n",
       " 'iron(III)',\n",
       " 'oxide',\n",
       " 'dust,',\n",
       " 'giving',\n",
       " 'it',\n",
       " 'the',\n",
       " 'nickname',\n",
       " 'the',\n",
       " 'Red',\n",
       " 'Planet',\n",
       " 'Mars',\n",
       " 'hosts',\n",
       " 'many',\n",
       " 'enormous',\n",
       " 'extinct',\n",
       " 'volcanos',\n",
       " 'and',\n",
       " 'one',\n",
       " 'of',\n",
       " 'the',\n",
       " 'largest',\n",
       " 'canyons',\n",
       " 'in',\n",
       " 'the',\n",
       " 'Solar',\n",
       " 'System.',\n",
       " 'For',\n",
       " 'comparison']"
      ]
     },
     "execution_count": 62,
     "metadata": {},
     "output_type": "execute_result"
    }
   ],
   "source": [
    "words"
   ]
  },
  {
   "cell_type": "code",
   "execution_count": 74,
   "id": "7c196301",
   "metadata": {},
   "outputs": [],
   "source": [
    "num = range(0,10000,2)"
   ]
  },
  {
   "cell_type": "code",
   "execution_count": null,
   "id": "d9c55b76",
   "metadata": {},
   "outputs": [],
   "source": []
  }
 ],
 "metadata": {
  "kernelspec": {
   "display_name": "Python 3 (ipykernel)",
   "language": "python",
   "name": "python3"
  },
  "language_info": {
   "codemirror_mode": {
    "name": "ipython",
    "version": 3
   },
   "file_extension": ".py",
   "mimetype": "text/x-python",
   "name": "python",
   "nbconvert_exporter": "python",
   "pygments_lexer": "ipython3",
   "version": "3.11.5"
  }
 },
 "nbformat": 4,
 "nbformat_minor": 5
}
