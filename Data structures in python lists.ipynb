{
 "cells": [
  {
   "cell_type": "markdown",
   "id": "5e604e7b",
   "metadata": {},
   "source": [
    "# Making of a list"
   ]
  },
  {
   "cell_type": "code",
   "execution_count": 2,
   "id": "bc5867f5",
   "metadata": {},
   "outputs": [],
   "source": [
    "x = [1,2,3,4]"
   ]
  },
  {
   "cell_type": "code",
   "execution_count": 3,
   "id": "21b1f222",
   "metadata": {},
   "outputs": [
    {
     "data": {
      "text/plain": [
       "list"
      ]
     },
     "execution_count": 3,
     "metadata": {},
     "output_type": "execute_result"
    }
   ],
   "source": [
    "type(x)"
   ]
  },
  {
   "cell_type": "code",
   "execution_count": 20,
   "id": "e2ad8d56",
   "metadata": {},
   "outputs": [],
   "source": [
    "k = list([1,2,3,4])"
   ]
  },
  {
   "cell_type": "code",
   "execution_count": 21,
   "id": "97207ce1",
   "metadata": {},
   "outputs": [
    {
     "data": {
      "text/plain": [
       "[1, 2, 3, 4]"
      ]
     },
     "execution_count": 21,
     "metadata": {},
     "output_type": "execute_result"
    }
   ],
   "source": [
    "k"
   ]
  },
  {
   "cell_type": "markdown",
   "id": "3c5ef871",
   "metadata": {},
   "source": [
    "# Different methods in list"
   ]
  },
  {
   "cell_type": "code",
   "execution_count": 38,
   "id": "991596a9",
   "metadata": {},
   "outputs": [],
   "source": [
    "k.append(5)"
   ]
  },
  {
   "cell_type": "code",
   "execution_count": 39,
   "id": "007b2556",
   "metadata": {},
   "outputs": [
    {
     "data": {
      "text/plain": [
       "[1, 2, 3, 4, 5]"
      ]
     },
     "execution_count": 39,
     "metadata": {},
     "output_type": "execute_result"
    }
   ],
   "source": [
    "k"
   ]
  },
  {
   "cell_type": "code",
   "execution_count": 40,
   "id": "63316a65",
   "metadata": {},
   "outputs": [],
   "source": [
    "k.append(10)"
   ]
  },
  {
   "cell_type": "code",
   "execution_count": 41,
   "id": "beb607c4",
   "metadata": {},
   "outputs": [
    {
     "data": {
      "text/plain": [
       "[1, 2, 3, 4, 5, 10]"
      ]
     },
     "execution_count": 41,
     "metadata": {},
     "output_type": "execute_result"
    }
   ],
   "source": [
    "k"
   ]
  },
  {
   "cell_type": "code",
   "execution_count": 42,
   "id": "0c820b76",
   "metadata": {},
   "outputs": [],
   "source": [
    "k.clear()"
   ]
  },
  {
   "cell_type": "code",
   "execution_count": 43,
   "id": "36615ee6",
   "metadata": {},
   "outputs": [
    {
     "data": {
      "text/plain": [
       "[]"
      ]
     },
     "execution_count": 43,
     "metadata": {},
     "output_type": "execute_result"
    }
   ],
   "source": [
    "k"
   ]
  },
  {
   "cell_type": "code",
   "execution_count": 44,
   "id": "91e58c09",
   "metadata": {},
   "outputs": [],
   "source": [
    "x.clear()"
   ]
  },
  {
   "cell_type": "code",
   "execution_count": 45,
   "id": "fa427569",
   "metadata": {},
   "outputs": [
    {
     "data": {
      "text/plain": [
       "[]"
      ]
     },
     "execution_count": 45,
     "metadata": {},
     "output_type": "execute_result"
    }
   ],
   "source": [
    "x"
   ]
  },
  {
   "cell_type": "code",
   "execution_count": 46,
   "id": "4b4c84a4",
   "metadata": {},
   "outputs": [],
   "source": [
    "g = k.copy()"
   ]
  },
  {
   "cell_type": "code",
   "execution_count": 47,
   "id": "06ab0547",
   "metadata": {},
   "outputs": [
    {
     "data": {
      "text/plain": [
       "[]"
      ]
     },
     "execution_count": 47,
     "metadata": {},
     "output_type": "execute_result"
    }
   ],
   "source": [
    "g"
   ]
  },
  {
   "cell_type": "code",
   "execution_count": 48,
   "id": "9e653c06",
   "metadata": {},
   "outputs": [
    {
     "data": {
      "text/plain": [
       "0"
      ]
     },
     "execution_count": 48,
     "metadata": {},
     "output_type": "execute_result"
    }
   ],
   "source": [
    "g.count(1)"
   ]
  },
  {
   "cell_type": "code",
   "execution_count": 49,
   "id": "f2d76f9b",
   "metadata": {},
   "outputs": [],
   "source": [
    "g.append(4)"
   ]
  },
  {
   "cell_type": "code",
   "execution_count": 50,
   "id": "bbb22feb",
   "metadata": {},
   "outputs": [
    {
     "data": {
      "text/plain": [
       "[4]"
      ]
     },
     "execution_count": 50,
     "metadata": {},
     "output_type": "execute_result"
    }
   ],
   "source": [
    "g"
   ]
  },
  {
   "cell_type": "code",
   "execution_count": 51,
   "id": "647cb219",
   "metadata": {},
   "outputs": [
    {
     "data": {
      "text/plain": [
       "0"
      ]
     },
     "execution_count": 51,
     "metadata": {},
     "output_type": "execute_result"
    }
   ],
   "source": [
    "g.count(5)"
   ]
  },
  {
   "cell_type": "code",
   "execution_count": 52,
   "id": "dacc20c0",
   "metadata": {},
   "outputs": [
    {
     "data": {
      "text/plain": [
       "1554183502400"
      ]
     },
     "execution_count": 52,
     "metadata": {},
     "output_type": "execute_result"
    }
   ],
   "source": [
    "id(k)"
   ]
  },
  {
   "cell_type": "code",
   "execution_count": 53,
   "id": "aeb73e26",
   "metadata": {},
   "outputs": [
    {
     "data": {
      "text/plain": [
       "[4]"
      ]
     },
     "execution_count": 53,
     "metadata": {},
     "output_type": "execute_result"
    }
   ],
   "source": [
    "g"
   ]
  },
  {
   "cell_type": "code",
   "execution_count": 54,
   "id": "64e5d8d3",
   "metadata": {},
   "outputs": [],
   "source": [
    "h = [1,2,3,4]"
   ]
  },
  {
   "cell_type": "code",
   "execution_count": 55,
   "id": "bc254fa8",
   "metadata": {},
   "outputs": [
    {
     "data": {
      "text/plain": [
       "1554182892608"
      ]
     },
     "execution_count": 55,
     "metadata": {},
     "output_type": "execute_result"
    }
   ],
   "source": [
    "id(h)"
   ]
  },
  {
   "cell_type": "code",
   "execution_count": 56,
   "id": "0241c540",
   "metadata": {},
   "outputs": [],
   "source": [
    "j = h.copy()"
   ]
  },
  {
   "cell_type": "code",
   "execution_count": 57,
   "id": "681507ea",
   "metadata": {},
   "outputs": [
    {
     "data": {
      "text/plain": [
       "1554180659904"
      ]
     },
     "execution_count": 57,
     "metadata": {},
     "output_type": "execute_result"
    }
   ],
   "source": [
    "id(j)"
   ]
  },
  {
   "cell_type": "code",
   "execution_count": 37,
   "id": "53ccf63f",
   "metadata": {},
   "outputs": [
    {
     "data": {
      "text/plain": [
       "0"
      ]
     },
     "execution_count": 37,
     "metadata": {},
     "output_type": "execute_result"
    }
   ],
   "source": [
    "g.count(-1)"
   ]
  },
  {
   "cell_type": "code",
   "execution_count": 59,
   "id": "7a0bd25f",
   "metadata": {},
   "outputs": [],
   "source": [
    "h.extend([7,6,5,4])"
   ]
  },
  {
   "cell_type": "code",
   "execution_count": 60,
   "id": "67bbbb25",
   "metadata": {},
   "outputs": [
    {
     "data": {
      "text/plain": [
       "[1, 2, 3, 4, 7, 6, 5, 4]"
      ]
     },
     "execution_count": 60,
     "metadata": {},
     "output_type": "execute_result"
    }
   ],
   "source": [
    "h"
   ]
  },
  {
   "cell_type": "code",
   "execution_count": 61,
   "id": "8b58d8f0",
   "metadata": {},
   "outputs": [
    {
     "data": {
      "text/plain": [
       "0"
      ]
     },
     "execution_count": 61,
     "metadata": {},
     "output_type": "execute_result"
    }
   ],
   "source": [
    "h.index(1)"
   ]
  },
  {
   "cell_type": "code",
   "execution_count": 62,
   "id": "5a67f437",
   "metadata": {},
   "outputs": [
    {
     "data": {
      "text/plain": [
       "3"
      ]
     },
     "execution_count": 62,
     "metadata": {},
     "output_type": "execute_result"
    }
   ],
   "source": [
    "h.index(4)"
   ]
  },
  {
   "cell_type": "code",
   "execution_count": 63,
   "id": "4b267c65",
   "metadata": {},
   "outputs": [
    {
     "data": {
      "text/plain": [
       "[3, 4, 7]"
      ]
     },
     "execution_count": 63,
     "metadata": {},
     "output_type": "execute_result"
    }
   ],
   "source": [
    "h[2:5]"
   ]
  },
  {
   "cell_type": "code",
   "execution_count": 64,
   "id": "c38deef6",
   "metadata": {},
   "outputs": [
    {
     "data": {
      "text/plain": [
       "[1, 2, 3, 4, 7, 6, 5, 4]"
      ]
     },
     "execution_count": 64,
     "metadata": {},
     "output_type": "execute_result"
    }
   ],
   "source": [
    "h"
   ]
  },
  {
   "cell_type": "code",
   "execution_count": 66,
   "id": "20b008da",
   "metadata": {},
   "outputs": [
    {
     "data": {
      "text/plain": [
       "[1, 2, 3, 4, 7, 6, 5, 4]"
      ]
     },
     "execution_count": 66,
     "metadata": {},
     "output_type": "execute_result"
    }
   ],
   "source": [
    "h[0:]"
   ]
  },
  {
   "cell_type": "code",
   "execution_count": 67,
   "id": "82fd1d9e",
   "metadata": {},
   "outputs": [
    {
     "data": {
      "text/plain": [
       "[1, 2, 3, 4, 7]"
      ]
     },
     "execution_count": 67,
     "metadata": {},
     "output_type": "execute_result"
    }
   ],
   "source": [
    "h[:5]"
   ]
  },
  {
   "cell_type": "code",
   "execution_count": 68,
   "id": "60793e64",
   "metadata": {},
   "outputs": [
    {
     "data": {
      "text/plain": [
       "[1, 2, 3, 4, 7, 6, 5, 4]"
      ]
     },
     "execution_count": 68,
     "metadata": {},
     "output_type": "execute_result"
    }
   ],
   "source": [
    "h[:]"
   ]
  },
  {
   "cell_type": "code",
   "execution_count": 70,
   "id": "dc53edf1",
   "metadata": {},
   "outputs": [
    {
     "data": {
      "text/plain": [
       "8"
      ]
     },
     "execution_count": 70,
     "metadata": {},
     "output_type": "execute_result"
    }
   ],
   "source": [
    "# length of list if bydefault assumed\n",
    "len(h)"
   ]
  },
  {
   "cell_type": "code",
   "execution_count": 71,
   "id": "58185b0c",
   "metadata": {},
   "outputs": [
    {
     "data": {
      "text/plain": [
       "[4, 5, 6, 7, 4, 3, 2, 1]"
      ]
     },
     "execution_count": 71,
     "metadata": {},
     "output_type": "execute_result"
    }
   ],
   "source": [
    "h[::-1]"
   ]
  },
  {
   "cell_type": "code",
   "execution_count": 72,
   "id": "655cfde5",
   "metadata": {},
   "outputs": [
    {
     "data": {
      "text/plain": [
       "[]"
      ]
     },
     "execution_count": 72,
     "metadata": {},
     "output_type": "execute_result"
    }
   ],
   "source": [
    "h[2:5:-1]"
   ]
  },
  {
   "cell_type": "code",
   "execution_count": 74,
   "id": "5d9637f1",
   "metadata": {},
   "outputs": [
    {
     "data": {
      "text/plain": [
       "[1, 2, 3, 4, 7, 6, 5, 4]"
      ]
     },
     "execution_count": 74,
     "metadata": {},
     "output_type": "execute_result"
    }
   ],
   "source": [
    "h"
   ]
  },
  {
   "cell_type": "code",
   "execution_count": 73,
   "id": "29b7b419",
   "metadata": {},
   "outputs": [
    {
     "data": {
      "text/plain": [
       "[3, 2, 1]"
      ]
     },
     "execution_count": 73,
     "metadata": {},
     "output_type": "execute_result"
    }
   ],
   "source": [
    "h[2::-1]"
   ]
  },
  {
   "cell_type": "code",
   "execution_count": 75,
   "id": "df0a8bcf",
   "metadata": {},
   "outputs": [
    {
     "data": {
      "text/plain": [
       "[1, 2, 3, 4, 7, 6, 5, 4]"
      ]
     },
     "execution_count": 75,
     "metadata": {},
     "output_type": "execute_result"
    }
   ],
   "source": [
    "h"
   ]
  },
  {
   "cell_type": "code",
   "execution_count": 79,
   "id": "ae6c9d7a",
   "metadata": {},
   "outputs": [
    {
     "data": {
      "text/plain": [
       "[4, 6]"
      ]
     },
     "execution_count": 79,
     "metadata": {},
     "output_type": "execute_result"
    }
   ],
   "source": [
    "h[:4:-2]"
   ]
  },
  {
   "cell_type": "markdown",
   "id": "2f6dc4dd",
   "metadata": {},
   "source": [
    "# Write a program to check whether a string is palindrome or not"
   ]
  },
  {
   "cell_type": "code",
   "execution_count": 85,
   "id": "5bc5c24c",
   "metadata": {},
   "outputs": [],
   "source": [
    "s = \"radard\""
   ]
  },
  {
   "cell_type": "code",
   "execution_count": 86,
   "id": "ca8753d0",
   "metadata": {},
   "outputs": [],
   "source": [
    "reverse = s[::-1]"
   ]
  },
  {
   "cell_type": "code",
   "execution_count": 87,
   "id": "11e226b3",
   "metadata": {},
   "outputs": [
    {
     "data": {
      "text/plain": [
       "False"
      ]
     },
     "execution_count": 87,
     "metadata": {},
     "output_type": "execute_result"
    }
   ],
   "source": [
    "s == reverse"
   ]
  },
  {
   "cell_type": "code",
   "execution_count": 88,
   "id": "e43f1d31",
   "metadata": {},
   "outputs": [
    {
     "data": {
      "text/plain": [
       "[1, 2, 3, 4, 7, 6, 5, 4]"
      ]
     },
     "execution_count": 88,
     "metadata": {},
     "output_type": "execute_result"
    }
   ],
   "source": [
    "h"
   ]
  },
  {
   "cell_type": "code",
   "execution_count": 89,
   "id": "5afee058",
   "metadata": {},
   "outputs": [
    {
     "data": {
      "text/plain": [
       "4"
      ]
     },
     "execution_count": 89,
     "metadata": {},
     "output_type": "execute_result"
    }
   ],
   "source": [
    "h[-1]"
   ]
  },
  {
   "cell_type": "code",
   "execution_count": 90,
   "id": "60c5e4e3",
   "metadata": {},
   "outputs": [
    {
     "data": {
      "text/plain": [
       "5"
      ]
     },
     "execution_count": 90,
     "metadata": {},
     "output_type": "execute_result"
    }
   ],
   "source": [
    "h[-2]"
   ]
  },
  {
   "cell_type": "code",
   "execution_count": 91,
   "id": "9c2ab9f5",
   "metadata": {},
   "outputs": [
    {
     "data": {
      "text/plain": [
       "[]"
      ]
     },
     "execution_count": 91,
     "metadata": {},
     "output_type": "execute_result"
    }
   ],
   "source": [
    "h[-1:-5:1]"
   ]
  },
  {
   "cell_type": "code",
   "execution_count": 95,
   "id": "bd363720",
   "metadata": {},
   "outputs": [
    {
     "data": {
      "text/plain": [
       "[4, 6]"
      ]
     },
     "execution_count": 95,
     "metadata": {},
     "output_type": "execute_result"
    }
   ],
   "source": [
    "h[-5:-1:2]"
   ]
  },
  {
   "cell_type": "markdown",
   "id": "580578f9",
   "metadata": {},
   "source": [
    "# Strings and lists are ordered"
   ]
  },
  {
   "cell_type": "code",
   "execution_count": 99,
   "id": "8e29aff6",
   "metadata": {},
   "outputs": [
    {
     "data": {
      "text/plain": [
       "[4, 5, 6, 7, 4, 3, 2, 1]"
      ]
     },
     "execution_count": 99,
     "metadata": {},
     "output_type": "execute_result"
    }
   ],
   "source": [
    "h"
   ]
  },
  {
   "cell_type": "code",
   "execution_count": 100,
   "id": "6bc8cded",
   "metadata": {},
   "outputs": [],
   "source": [
    "h.reverse()"
   ]
  },
  {
   "cell_type": "code",
   "execution_count": 101,
   "id": "d282a0b3",
   "metadata": {},
   "outputs": [
    {
     "data": {
      "text/plain": [
       "[1, 2, 3, 4, 7, 6, 5, 4]"
      ]
     },
     "execution_count": 101,
     "metadata": {},
     "output_type": "execute_result"
    }
   ],
   "source": [
    "h"
   ]
  },
  {
   "cell_type": "code",
   "execution_count": 104,
   "id": "1b604964",
   "metadata": {},
   "outputs": [],
   "source": [
    "h = h[::-1]"
   ]
  },
  {
   "cell_type": "code",
   "execution_count": 106,
   "id": "52c75030",
   "metadata": {},
   "outputs": [
    {
     "data": {
      "text/plain": [
       "[4, 5, 6, 7, 4, 3, 2, 1]"
      ]
     },
     "execution_count": 106,
     "metadata": {},
     "output_type": "execute_result"
    }
   ],
   "source": [
    "h"
   ]
  },
  {
   "cell_type": "code",
   "execution_count": 107,
   "id": "d3734ebd",
   "metadata": {},
   "outputs": [
    {
     "data": {
      "text/plain": [
       "1"
      ]
     },
     "execution_count": 107,
     "metadata": {},
     "output_type": "execute_result"
    }
   ],
   "source": [
    "h.pop()"
   ]
  },
  {
   "cell_type": "code",
   "execution_count": 109,
   "id": "dd5b88d8",
   "metadata": {},
   "outputs": [
    {
     "data": {
      "text/plain": [
       "6"
      ]
     },
     "execution_count": 109,
     "metadata": {},
     "output_type": "execute_result"
    }
   ],
   "source": [
    "h.pop(2)"
   ]
  },
  {
   "cell_type": "code",
   "execution_count": 110,
   "id": "3970cd88",
   "metadata": {},
   "outputs": [
    {
     "data": {
      "text/plain": [
       "[4, 5, 7, 4, 3, 2]"
      ]
     },
     "execution_count": 110,
     "metadata": {},
     "output_type": "execute_result"
    }
   ],
   "source": [
    "h"
   ]
  },
  {
   "cell_type": "code",
   "execution_count": 111,
   "id": "ab60bfde",
   "metadata": {},
   "outputs": [],
   "source": [
    "j = [\"Python\",\"java\",\"react\",\"ruby\",\"c\"]"
   ]
  },
  {
   "cell_type": "code",
   "execution_count": 112,
   "id": "b6b78079",
   "metadata": {},
   "outputs": [
    {
     "data": {
      "text/plain": [
       "'c'"
      ]
     },
     "execution_count": 112,
     "metadata": {},
     "output_type": "execute_result"
    }
   ],
   "source": [
    "j.pop()"
   ]
  },
  {
   "cell_type": "code",
   "execution_count": 113,
   "id": "24c657c9",
   "metadata": {},
   "outputs": [
    {
     "data": {
      "text/plain": [
       "['Python', 'java', 'react', 'ruby']"
      ]
     },
     "execution_count": 113,
     "metadata": {},
     "output_type": "execute_result"
    }
   ],
   "source": [
    "j"
   ]
  },
  {
   "cell_type": "code",
   "execution_count": 114,
   "id": "268fc6af",
   "metadata": {},
   "outputs": [
    {
     "data": {
      "text/plain": [
       "'java'"
      ]
     },
     "execution_count": 114,
     "metadata": {},
     "output_type": "execute_result"
    }
   ],
   "source": [
    "j.pop(1)"
   ]
  },
  {
   "cell_type": "code",
   "execution_count": 115,
   "id": "3bf5f235",
   "metadata": {},
   "outputs": [
    {
     "data": {
      "text/plain": [
       "['Python', 'react', 'ruby']"
      ]
     },
     "execution_count": 115,
     "metadata": {},
     "output_type": "execute_result"
    }
   ],
   "source": [
    "j"
   ]
  },
  {
   "cell_type": "code",
   "execution_count": 116,
   "id": "a835f88b",
   "metadata": {},
   "outputs": [],
   "source": [
    "j.remove('Python')"
   ]
  },
  {
   "cell_type": "code",
   "execution_count": 117,
   "id": "6ce5e2f2",
   "metadata": {},
   "outputs": [
    {
     "data": {
      "text/plain": [
       "['react', 'ruby']"
      ]
     },
     "execution_count": 117,
     "metadata": {},
     "output_type": "execute_result"
    }
   ],
   "source": [
    "j"
   ]
  },
  {
   "cell_type": "code",
   "execution_count": 118,
   "id": "170b921d",
   "metadata": {},
   "outputs": [],
   "source": [
    "j.sort()"
   ]
  },
  {
   "cell_type": "code",
   "execution_count": 119,
   "id": "dd615d0f",
   "metadata": {},
   "outputs": [
    {
     "data": {
      "text/plain": [
       "['react', 'ruby']"
      ]
     },
     "execution_count": 119,
     "metadata": {},
     "output_type": "execute_result"
    }
   ],
   "source": [
    "j"
   ]
  },
  {
   "cell_type": "code",
   "execution_count": 130,
   "id": "20ac1519",
   "metadata": {},
   "outputs": [],
   "source": [
    "k = [1,3,3,4,2,2,4,4,5,4,33,87,45]"
   ]
  },
  {
   "cell_type": "code",
   "execution_count": 125,
   "id": "371601ac",
   "metadata": {},
   "outputs": [],
   "source": [
    "k.sort(reverse = True)"
   ]
  },
  {
   "cell_type": "code",
   "execution_count": 126,
   "id": "49a250a2",
   "metadata": {},
   "outputs": [
    {
     "data": {
      "text/plain": [
       "[87, 45, 33, 5, 4, 4, 4, 4, 3, 3, 2, 2, 1]"
      ]
     },
     "execution_count": 126,
     "metadata": {},
     "output_type": "execute_result"
    }
   ],
   "source": [
    "k"
   ]
  },
  {
   "cell_type": "code",
   "execution_count": 128,
   "id": "e16c627d",
   "metadata": {},
   "outputs": [],
   "source": [
    "data = [1,\"text\",8,8.98,False]"
   ]
  },
  {
   "cell_type": "code",
   "execution_count": 129,
   "id": "3d8e3323",
   "metadata": {},
   "outputs": [
    {
     "data": {
      "text/plain": [
       "int"
      ]
     },
     "execution_count": 129,
     "metadata": {},
     "output_type": "execute_result"
    }
   ],
   "source": [
    "type(data[2])"
   ]
  },
  {
   "cell_type": "markdown",
   "id": "235bb2aa",
   "metadata": {},
   "source": [
    "# Mutable and immutable"
   ]
  },
  {
   "cell_type": "code",
   "execution_count": 131,
   "id": "3653d7b9",
   "metadata": {},
   "outputs": [
    {
     "data": {
      "text/plain": [
       "[1, 3, 3, 4, 2, 2, 4, 4, 5, 4, 33, 87, 45]"
      ]
     },
     "execution_count": 131,
     "metadata": {},
     "output_type": "execute_result"
    }
   ],
   "source": [
    "k"
   ]
  },
  {
   "cell_type": "code",
   "execution_count": 132,
   "id": "127ac805",
   "metadata": {},
   "outputs": [],
   "source": [
    "k.append(78)"
   ]
  },
  {
   "cell_type": "code",
   "execution_count": 133,
   "id": "4c968bba",
   "metadata": {},
   "outputs": [
    {
     "data": {
      "text/plain": [
       "[1, 3, 3, 4, 2, 2, 4, 4, 5, 4, 33, 87, 45, 78]"
      ]
     },
     "execution_count": 133,
     "metadata": {},
     "output_type": "execute_result"
    }
   ],
   "source": [
    "k"
   ]
  },
  {
   "cell_type": "code",
   "execution_count": 134,
   "id": "d19ba75c",
   "metadata": {},
   "outputs": [
    {
     "data": {
      "text/plain": [
       "78"
      ]
     },
     "execution_count": 134,
     "metadata": {},
     "output_type": "execute_result"
    }
   ],
   "source": [
    "k.pop()"
   ]
  },
  {
   "cell_type": "code",
   "execution_count": 135,
   "id": "fc86a3a1",
   "metadata": {},
   "outputs": [
    {
     "data": {
      "text/plain": [
       "[1, 3, 3, 4, 2, 2, 4, 4, 5, 4, 33, 87, 45]"
      ]
     },
     "execution_count": 135,
     "metadata": {},
     "output_type": "execute_result"
    }
   ],
   "source": [
    "k"
   ]
  },
  {
   "cell_type": "code",
   "execution_count": 138,
   "id": "8618e70a",
   "metadata": {},
   "outputs": [],
   "source": [
    "s = \"LECTURE\""
   ]
  },
  {
   "cell_type": "markdown",
   "id": "df17574e",
   "metadata": {},
   "source": [
    "# upper and lower"
   ]
  },
  {
   "cell_type": "code",
   "execution_count": 139,
   "id": "dcb8fcb7",
   "metadata": {},
   "outputs": [
    {
     "data": {
      "text/plain": [
       "'lecture'"
      ]
     },
     "execution_count": 139,
     "metadata": {},
     "output_type": "execute_result"
    }
   ],
   "source": [
    "s.lower()"
   ]
  },
  {
   "cell_type": "code",
   "execution_count": 140,
   "id": "8c76c553",
   "metadata": {},
   "outputs": [
    {
     "data": {
      "text/plain": [
       "'LECTURE'"
      ]
     },
     "execution_count": 140,
     "metadata": {},
     "output_type": "execute_result"
    }
   ],
   "source": [
    "s"
   ]
  },
  {
   "cell_type": "markdown",
   "id": "a72c6ee5",
   "metadata": {},
   "source": [
    "# lists are mutable"
   ]
  },
  {
   "cell_type": "code",
   "execution_count": 145,
   "id": "43629df3",
   "metadata": {},
   "outputs": [],
   "source": [
    "words = [1,\"Pomegranates\",\"Guava\"]"
   ]
  },
  {
   "cell_type": "code",
   "execution_count": 146,
   "id": "ab4c3ed8",
   "metadata": {},
   "outputs": [
    {
     "data": {
      "text/plain": [
       "int"
      ]
     },
     "execution_count": 146,
     "metadata": {},
     "output_type": "execute_result"
    }
   ],
   "source": [
    "type(words[0])"
   ]
  },
  {
   "cell_type": "code",
   "execution_count": 148,
   "id": "e8ae5cab",
   "metadata": {},
   "outputs": [
    {
     "data": {
      "text/plain": [
       "1"
      ]
     },
     "execution_count": 148,
     "metadata": {},
     "output_type": "execute_result"
    }
   ],
   "source": [
    "words[0]"
   ]
  },
  {
   "cell_type": "code",
   "execution_count": 152,
   "id": "d1c81798",
   "metadata": {},
   "outputs": [],
   "source": [
    "h = 9.87"
   ]
  },
  {
   "cell_type": "code",
   "execution_count": 153,
   "id": "4c86de51",
   "metadata": {},
   "outputs": [
    {
     "data": {
      "text/plain": [
       "float"
      ]
     },
     "execution_count": 153,
     "metadata": {},
     "output_type": "execute_result"
    }
   ],
   "source": [
    "type(h)"
   ]
  },
  {
   "cell_type": "code",
   "execution_count": null,
   "id": "202b0487",
   "metadata": {},
   "outputs": [],
   "source": []
  }
 ],
 "metadata": {
  "kernelspec": {
   "display_name": "Python 3 (ipykernel)",
   "language": "python",
   "name": "python3"
  },
  "language_info": {
   "codemirror_mode": {
    "name": "ipython",
    "version": 3
   },
   "file_extension": ".py",
   "mimetype": "text/x-python",
   "name": "python",
   "nbconvert_exporter": "python",
   "pygments_lexer": "ipython3",
   "version": "3.11.5"
  }
 },
 "nbformat": 4,
 "nbformat_minor": 5
}
